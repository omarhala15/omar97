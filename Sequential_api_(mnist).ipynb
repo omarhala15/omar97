{
  "cells": [
    {
      "cell_type": "markdown",
      "metadata": {
        "id": "view-in-github",
        "colab_type": "text"
      },
      "source": [
        "<a href=\"https://colab.research.google.com/github/omarhala15/omar97/blob/main/Sequential_api_(mnist).ipynb\" target=\"_parent\"><img src=\"https://colab.research.google.com/assets/colab-badge.svg\" alt=\"Open In Colab\"/></a>"
      ]
    },
    {
      "cell_type": "code",
      "execution_count": 1,
      "metadata": {
        "id": "0pQYUNTy7mq2"
      },
      "outputs": [],
      "source": [
        "import tensorflow as tf\n",
        "from tensorflow import keras\n",
        "import pandas as pd \n",
        "import numpy as np\n",
        "import matplotlib.pyplot as plt\n",
        "%matplotlib inline"
      ]
    },
    {
      "cell_type": "code",
      "execution_count": 2,
      "metadata": {
        "id": "6aW0cP488HWF",
        "colab": {
          "base_uri": "https://localhost:8080/"
        },
        "outputId": "c6e677ac-07f1-4b9e-bb78-5a12ab4cab97"
      },
      "outputs": [
        {
          "output_type": "stream",
          "name": "stdout",
          "text": [
            "Downloading data from https://storage.googleapis.com/tensorflow/tf-keras-datasets/train-labels-idx1-ubyte.gz\n",
            "29515/29515 [==============================] - 0s 0us/step\n",
            "Downloading data from https://storage.googleapis.com/tensorflow/tf-keras-datasets/train-images-idx3-ubyte.gz\n",
            "26421880/26421880 [==============================] - 0s 0us/step\n",
            "Downloading data from https://storage.googleapis.com/tensorflow/tf-keras-datasets/t10k-labels-idx1-ubyte.gz\n",
            "5148/5148 [==============================] - 0s 0us/step\n",
            "Downloading data from https://storage.googleapis.com/tensorflow/tf-keras-datasets/t10k-images-idx3-ubyte.gz\n",
            "4422102/4422102 [==============================] - 0s 0us/step\n"
          ]
        }
      ],
      "source": [
        "from keras.datasets import fashion_mnist\n",
        "(X_train_full,y_train_full),(X_test,y_test)=fashion_mnist.load_data()"
      ]
    },
    {
      "cell_type": "code",
      "execution_count": 3,
      "metadata": {
        "id": "pF9ELcUl90iH"
      },
      "outputs": [],
      "source": [
        "X_valid,X_train=X_train_full[:5000]/255,X_train_full[5000:]/255\n",
        "y_valid,y_train=y_train_full[:5000],y_train_full[5000:]\n",
        "class_names = [\"T-shirt/top\", \"Trouser\", \"Pullover\", \"Dress\", \"Coat\",\n",
        " \"Sandal\", \"Shirt\", \"Sneaker\", \"Bag\", \"Ankle boot\"]"
      ]
    },
    {
      "cell_type": "code",
      "execution_count": 4,
      "metadata": {
        "id": "s6TlEhf8HWet"
      },
      "outputs": [],
      "source": [
        "# importing various types of hidden layers\n",
        "from tensorflow.keras.models import Sequential\n",
        "from tensorflow.keras.layers import Conv2D,MaxPooling2D,Dense,Flatten\n",
        "# Adam optimizer for better LR and less loss\n",
        "from tensorflow.keras.optimizers import Adam"
      ]
    },
    {
      "cell_type": "code",
      "execution_count": 5,
      "metadata": {
        "colab": {
          "base_uri": "https://localhost:8080/",
          "height": 433
        },
        "id": "2EIO91vLJwaW",
        "outputId": "b0e3bc4a-2b5f-4671-b356-f60044072cb9"
      },
      "outputs": [
        {
          "output_type": "display_data",
          "data": {
            "text/plain": [
              "<Figure size 640x480 with 9 Axes>"
            ],
            "image/png": "[encoded data removed]"
          },
          "metadata": {}
        }
      ],
      "source": [
        "for i in range(1,10):\n",
        "  plt.subplot(3,3,i)\n",
        "  plt.imshow(X_train[i],cmap=plt.get_cmap('gray'))"
      ]
    },
    {
      "cell_type": "code",
      "source": [
        "from tensorflow.keras.utils import to_categorical\n",
        "y_train_categorical = to_categorical(y_train)\n",
        "y_valid_categorical = to_categorical(y_valid)\n",
        "print(\"Finished categorizing the labels (output)\")"
      ],
      "metadata": {
        "colab": {
          "base_uri": "https://localhost:8080/"
        },
        "id": "lwaVz5FlGABA",
        "outputId": "c65b89ba-9e35-428c-e838-21707910c182"
      },
      "execution_count": 6,
      "outputs": [
        {
          "output_type": "stream",
          "name": "stdout",
          "text": [
            "Finished categorizing the labels (output)\n"
          ]
        }
      ]
    },
    {
      "cell_type": "code",
      "execution_count": 7,
      "metadata": {
        "id": "rsbKNA1YPc0a"
      },
      "outputs": [],
      "source": [
        "from keras.api._v2.keras import activations\n",
        "models=keras.models.Sequential()\n",
        "models.add(Conv2D(64,(5,5),padding='same',activation='tanh',input_shape=(28,28,1)))\n",
        "models.add(MaxPooling2D(pool_size=(2,2)))\n",
        "models.add(Conv2D(128,(5,5),padding='same',activation='tanh'))\n",
        "models.add(MaxPooling2D(pool_size=(2,2)))\n",
        "#models.add(Conv2D(256,(5,5),padding='same',activation='tanh'))\n",
        "#models.add(MaxPooling2D(pool_size=(2,2)))\n",
        "models.add(Flatten())\n",
        "models.add(Dense(10,activation='softmax'))"
      ]
    },
    {
      "cell_type": "code",
      "execution_count": 8,
      "metadata": {
        "id": "yejQDaPUjqb0"
      },
      "outputs": [],
      "source": [
        "model = keras.models.Sequential([\n",
        " keras.layers.Flatten(input_shape=[28, 28]),\n",
        " keras.layers.Dense(400, activation=\"relu\"),\n",
        " keras.layers.Dense(125, activation=\"relu\"),\n",
        " keras.layers.Dense(10, activation=\"softmax\")\n",
        "])\n",
        "model.compile(optimizer=Adam(learning_rate=1e-3),loss='sparse_categorical_crossentropy')"
      ]
    },
    {
      "cell_type": "code",
      "execution_count": 9,
      "metadata": {
        "colab": {
          "base_uri": "https://localhost:8080/"
        },
        "id": "K_TfAwYdHfAh",
        "outputId": "b43f652c-b54c-4ee9-8083-9c6ef41095a9"
      },
      "outputs": [
        {
          "output_type": "stream",
          "name": "stdout",
          "text": [
            "Epoch 1/10\n",
            "1719/1719 [==============================] - 28s 15ms/step - loss: 0.4833 - val_loss: 0.3891\n",
            "Epoch 2/10\n",
            "1719/1719 [==============================] - 13s 8ms/step - loss: 0.3632 - val_loss: 0.3381\n",
            "Epoch 3/10\n",
            "1719/1719 [==============================] - 14s 8ms/step - loss: 0.3282 - val_loss: 0.3088\n",
            "Epoch 4/10\n",
            "1719/1719 [==============================] - 13s 8ms/step - loss: 0.3041 - val_loss: 0.3207\n",
            "Epoch 5/10\n",
            "1719/1719 [==============================] - 14s 8ms/step - loss: 0.2843 - val_loss: 0.3029\n",
            "Epoch 6/10\n",
            "1719/1719 [==============================] - 14s 8ms/step - loss: 0.2692 - val_loss: 0.3191\n",
            "Epoch 7/10\n",
            "1719/1719 [==============================] - 13s 7ms/step - loss: 0.2562 - val_loss: 0.3050\n",
            "Epoch 8/10\n",
            "1719/1719 [==============================] - 14s 8ms/step - loss: 0.2439 - val_loss: 0.3163\n",
            "Epoch 9/10\n",
            "1719/1719 [==============================] - 13s 7ms/step - loss: 0.2360 - val_loss: 0.2986\n",
            "Epoch 10/10\n",
            "1719/1719 [==============================] - 13s 8ms/step - loss: 0.2226 - val_loss: 0.3069\n",
            "CPU times: user 2min 52s, sys: 10.3 s, total: 3min 2s\n",
            "Wall time: 3min 25s\n"
          ]
        }
      ],
      "source": [
        "%%time\n",
        "History=model.fit(X_train,y_train,epochs=10,validation_data=(X_valid,y_valid))"
      ]
    },
    {
      "cell_type": "code",
      "execution_count": 10,
      "metadata": {
        "id": "KDfYjq8qJQuv"
      },
      "outputs": [],
      "source": [
        "models.compile(optimizer=Adam(learning_rate=1e-3),loss='sparse_categorical_crossentropy',\n",
        "                       metrics=['sparse_categorical_accuracy'])\n",
        "           "
      ]
    },
    {
      "cell_type": "code",
      "execution_count": 11,
      "metadata": {
        "colab": {
          "base_uri": "https://localhost:8080/"
        },
        "id": "W3NQd1C8o77v",
        "outputId": "4054bfab-4d18-49d6-a3b2-379c1f1a4be2"
      },
      "outputs": [
        {
          "output_type": "stream",
          "name": "stdout",
          "text": [
            "Epoch 1/4\n",
            "1719/1719 [==============================] - 417s 242ms/step - loss: 0.4088 - sparse_categorical_accuracy: 0.8564 - val_loss: 0.3380 - val_sparse_categorical_accuracy: 0.8836\n",
            "Epoch 2/4\n",
            "1719/1719 [==============================] - 412s 240ms/step - loss: 0.2905 - sparse_categorical_accuracy: 0.8970 - val_loss: 0.2873 - val_sparse_categorical_accuracy: 0.8974\n",
            "Epoch 3/4\n",
            "1719/1719 [==============================] - 408s 238ms/step - loss: 0.2422 - sparse_categorical_accuracy: 0.9147 - val_loss: 0.3085 - val_sparse_categorical_accuracy: 0.8936\n",
            "Epoch 4/4\n",
            "1719/1719 [==============================] - 416s 242ms/step - loss: 0.2070 - sparse_categorical_accuracy: 0.9275 - val_loss: 0.2808 - val_sparse_categorical_accuracy: 0.9050\n"
          ]
        }
      ],
      "source": [
        "history=models.fit(X_train,y_train,epochs=4,validation_data=(X_valid,y_valid))"
      ]
    },
    {
      "cell_type": "code",
      "execution_count": 12,
      "metadata": {
        "colab": {
          "base_uri": "https://localhost:8080/"
        },
        "id": "TyT4yhzQ8Z3H",
        "outputId": "1fe71ef6-2a36-4172-8e38-714052a41504"
      },
      "outputs": [
        {
          "output_type": "stream",
          "name": "stdout",
          "text": [
            "313/313 [==============================] - 20s 62ms/step - loss: 1.8615 - sparse_categorical_accuracy: 0.7417\n"
          ]
        },
        {
          "output_type": "execute_result",
          "data": {
            "text/plain": [
              "[1.861496925354004, 0.7416999936103821]"
            ]
          },
          "metadata": {},
          "execution_count": 12
        }
      ],
      "source": [
        "models.evaluate(X_test,y_test)"
      ]
    },
    {
      "cell_type": "code",
      "execution_count": 13,
      "metadata": {
        "colab": {
          "base_uri": "https://localhost:8080/"
        },
        "id": "ehwyoa67Fnmp",
        "outputId": "1f7f8d6b-2463-4f2d-98e2-025c7dde69b6"
      },
      "outputs": [
        {
          "output_type": "stream",
          "name": "stdout",
          "text": [
            "313/313 [==============================] - 1s 4ms/step - loss: 62.0183\n"
          ]
        },
        {
          "output_type": "execute_result",
          "data": {
            "text/plain": [
              "62.01829528808594"
            ]
          },
          "metadata": {},
          "execution_count": 13
        }
      ],
      "source": [
        "model.evaluate(X_test,y_test)"
      ]
    },
    {
      "cell_type": "code",
      "execution_count": 14,
      "metadata": {
        "colab": {
          "base_uri": "https://localhost:8080/",
          "height": 445
        },
        "id": "4KJlTkgxExz-",
        "outputId": "c5ec3145-5d5c-456d-d6ff-e0b1c7f80aae"
      },
      "outputs": [
        {
          "output_type": "display_data",
          "data": {
            "text/plain": [
              "<Figure size 800x500 with 1 Axes>"
            ],
            "image/png": "[encoded data removed]"
          },
          "metadata": {}
        }
      ],
      "source": [
        "pd.DataFrame(History.history).plot(figsize=(8, 5))\n",
        "plt.grid(True)\n",
        "#plt.gca().set_ylim(0, 1) # set the vertical range to [0-1]\n",
        "plt.show()\n"
      ]
    },
    {
      "cell_type": "code",
      "execution_count": 15,
      "metadata": {
        "colab": {
          "base_uri": "https://localhost:8080/"
        },
        "id": "eLqVKChYHz_c",
        "outputId": "846fce2a-c8aa-4679-a5c1-c57987ed593d"
      },
      "outputs": [
        {
          "output_type": "stream",
          "name": "stdout",
          "text": [
            "313/313 [==============================] - 1s 3ms/step - loss: 62.0183\n"
          ]
        },
        {
          "output_type": "execute_result",
          "data": {
            "text/plain": [
              "62.01829528808594"
            ]
          },
          "metadata": {},
          "execution_count": 15
        }
      ],
      "source": [
        "model.evaluate(X_test,y_test)"
      ]
    },
    {
      "cell_type": "code",
      "execution_count": 16,
      "metadata": {
        "colab": {
          "base_uri": "https://localhost:8080/"
        },
        "id": "HyN3zDQ9gM30",
        "outputId": "196fb7c2-60bd-45a7-918e-477865118c6b"
      },
      "outputs": [
        {
          "output_type": "stream",
          "name": "stdout",
          "text": [
            "1/1 [==============================] - 0s 124ms/step\n"
          ]
        },
        {
          "output_type": "execute_result",
          "data": {
            "text/plain": [
              "array([[0., 0., 0., 0., 0., 0., 0., 0., 0., 1.],\n",
              "       [0., 0., 1., 0., 0., 0., 0., 0., 0., 0.],\n",
              "       [0., 1., 0., 0., 0., 0., 0., 0., 0., 0.]], dtype=float32)"
            ]
          },
          "metadata": {},
          "execution_count": 16
        }
      ],
      "source": [
        "x_new=X_test[:3]\n",
        "model.predict(x_new).round()\n"
      ]
    },
    {
      "cell_type": "code",
      "execution_count": 17,
      "metadata": {
        "colab": {
          "base_uri": "https://localhost:8080/"
        },
        "id": "orlAKGAynN4Z",
        "outputId": "5b3929c8-1af5-4b12-926e-875e488e29d2"
      },
      "outputs": [
        {
          "output_type": "stream",
          "name": "stdout",
          "text": [
            "1/1 [==============================] - 0s 23ms/step\n"
          ]
        },
        {
          "output_type": "execute_result",
          "data": {
            "text/plain": [
              "array(['Ankle boot', 'Pullover', 'Trouser'], dtype='<U11')"
            ]
          },
          "metadata": {},
          "execution_count": 17
        }
      ],
      "source": [
        "y_pred = np.argmax(model.predict(x_new),axis=1)\n",
        "np.array(class_names)[y_pred]\n"
      ]
    },
    {
      "cell_type": "code",
      "execution_count": 18,
      "metadata": {
        "colab": {
          "base_uri": "https://localhost:8080/"
        },
        "id": "icEBtWI18xRt",
        "outputId": "05d3afc6-654b-4d73-81db-d8189df55ba5"
      },
      "outputs": [
        {
          "output_type": "stream",
          "name": "stdout",
          "text": [
            "1/1 [==============================] - 0s 79ms/step\n"
          ]
        },
        {
          "output_type": "execute_result",
          "data": {
            "text/plain": [
              "array(['Ankle boot', 'Pullover', 'Trouser'], dtype='<U11')"
            ]
          },
          "metadata": {},
          "execution_count": 18
        }
      ],
      "source": [
        "y_pred = np.argmax(models.predict(x_new),axis=1)\n",
        "np.array(class_names)[y_pred]"
      ]
    }
  ],
  "metadata": {
    "colab": {
      "provenance": [],
      "authorship_tag": "ABX9TyNLPn5gf9goC5tBnTRzS3+k",
      "include_colab_link": true
    },
    "kernelspec": {
      "display_name": "Python 3",
      "name": "python3"
    },
    "language_info": {
      "name": "python"
    }
  },
  "nbformat": 4,
  "nbformat_minor": 0
}